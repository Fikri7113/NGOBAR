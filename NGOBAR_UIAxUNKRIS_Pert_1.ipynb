{
  "nbformat": 4,
  "nbformat_minor": 0,
  "metadata": {
    "colab": {
      "provenance": [],
      "authorship_tag": "ABX9TyPfseh7IbwhNfKTyPyoJxTm",
      "include_colab_link": true
    },
    "kernelspec": {
      "name": "python3",
      "display_name": "Python 3"
    },
    "language_info": {
      "name": "python"
    }
  },
  "cells": [
    {
      "cell_type": "markdown",
      "metadata": {
        "id": "view-in-github",
        "colab_type": "text"
      },
      "source": [
        "<a href=\"https://colab.research.google.com/github/Fikri7113/NGOBAR/blob/main/NGOBAR_UIAxUNKRIS_Pert_1.ipynb\" target=\"_parent\"><img src=\"https://colab.research.google.com/assets/colab-badge.svg\" alt=\"Open In Colab\"/></a>"
      ]
    },
    {
      "cell_type": "markdown",
      "source": [
        "SOAL 1"
      ],
      "metadata": {
        "id": "NhLe0dfauQVa"
      }
    },
    {
      "cell_type": "code",
      "source": [
        "# Kalkulator Sederhana\n",
        "print(\"Kalkulator Sederhana\")\n",
        "print(\"Pilih operator: +, -, *, /\")\n",
        "\n",
        "# Meminta input dari pengguna\n",
        "angka1 = float(input(\"Masukkan angka pertama: \"))\n",
        "operator = input(\"Masukkan operator (+, -, *, /): \")\n",
        "angka2 = float(input(\"Masukkan angka kedua: \"))\n",
        "\n",
        "# Menghitung berdasarkan operator yang dipilih\n",
        "if operator == '+':\n",
        "    hasil = angka1 + angka2\n",
        "    print(f\"Hasil: {angka1} + {angka2} = {hasil}\")\n",
        "elif operator == '-':\n",
        "    hasil = angka1 - angka2\n",
        "    print(f\"Hasil: {angka1} - {angka2} = {hasil}\")\n",
        "elif operator == '*':\n",
        "    hasil = angka1 * angka2\n",
        "    print(f\"Hasil: {angka1} * {angka2} = {hasil}\")\n",
        "elif operator == '/':\n",
        "    if angka2 != 0:\n",
        "        hasil = angka1 / angka2\n",
        "        print(f\"Hasil: {angka1} / {angka2} = {hasil}\")\n",
        "    else:\n",
        "        print(\"Kesalahan: Pembagian dengan nol tidak diperbolehkan.\")\n",
        "else:\n",
        "    print(\"Operator tidak valid. Silakan coba lagi.\")\n"
      ],
      "metadata": {
        "colab": {
          "base_uri": "https://localhost:8080/",
          "height": 0
        },
        "id": "7C0o1H2ruWQ1",
        "outputId": "fb9caa05-215f-438d-bc07-0ba383e2cabd"
      },
      "execution_count": 2,
      "outputs": [
        {
          "output_type": "stream",
          "name": "stdout",
          "text": [
            "Kalkulator Sederhana\n",
            "Pilih operator: +, -, *, /\n",
            "Masukkan angka pertama: 7\n",
            "Masukkan operator (+, -, *, /): -\n",
            "Masukkan angka kedua: 3\n",
            "Hasil: 7.0 - 3.0 = 4.0\n"
          ]
        }
      ]
    },
    {
      "cell_type": "markdown",
      "source": [
        "SOAL 2"
      ],
      "metadata": {
        "id": "LnoqDqHHunOW"
      }
    },
    {
      "cell_type": "code",
      "source": [
        "# Program untuk menampilkan deret Fibonacci\n",
        "print(\"Menampilkan Deret Fibonacci\")\n",
        "\n",
        "# Meminta input batas deret dari pengguna\n",
        "batas = int(input(\"Masukkan batas deret Fibonacci: \"))\n",
        "\n",
        "# Inisialisasi angka pertama dan kedua\n",
        "a, b = 0, 1\n",
        "\n",
        "# Menampilkan deret Fibonacci\n",
        "print(\"Deret Fibonacci:\")\n",
        "while a <= batas:\n",
        "    print(a, end=\" \")  # Menampilkan angka Fibonacci\n",
        "    a, b = b, a + b    # Memperbarui nilai a dan b\n"
      ],
      "metadata": {
        "colab": {
          "base_uri": "https://localhost:8080/"
        },
        "id": "BOrgbAAeupHA",
        "outputId": "10edb9cd-da98-47fa-b6a5-be5c3d1f5d5f"
      },
      "execution_count": 8,
      "outputs": [
        {
          "output_type": "stream",
          "name": "stdout",
          "text": [
            "Menampilkan Deret Fibonacci\n",
            "Masukkan batas deret Fibonacci: 17\n",
            "Deret Fibonacci:\n",
            "0 1 1 2 3 5 8 13 "
          ]
        }
      ]
    },
    {
      "cell_type": "markdown",
      "source": [
        "SOAL 3"
      ],
      "metadata": {
        "id": "ArZFEZZqusJo"
      }
    },
    {
      "cell_type": "code",
      "source": [
        "# Program untuk mencari nilai maksimum dan minimum dalam list\n",
        "print(\"Mencari Nilai Maksimum dan Minimum dalam List\")\n",
        "\n",
        "# Meminta input dari pengguna\n",
        "angka = input(\"Masukkan serangkaian angka yang dipisahkan dengan spasi: \")\n",
        "\n",
        "# Mengubah input menjadi list angka\n",
        "angka_list = list(map(float, angka.split()))\n",
        "\n",
        "# Mencari nilai maksimum dan minimum\n",
        "nilai_maksimum = max(angka_list)\n",
        "nilai_minimum = min(angka_list)\n",
        "\n",
        "# Menampilkan hasil\n",
        "print(f\"Daftar angka: {angka_list}\")\n",
        "print(f\"Nilai maksimum: {nilai_maksimum}\")\n",
        "print(f\"Nilai minimum: {nilai_minimum}\")\n"
      ],
      "metadata": {
        "colab": {
          "base_uri": "https://localhost:8080/",
          "height": 0
        },
        "id": "rVCjwwqPutZ4",
        "outputId": "f40912be-f5b7-4d19-9c5f-008d87e7e456"
      },
      "execution_count": 5,
      "outputs": [
        {
          "output_type": "stream",
          "name": "stdout",
          "text": [
            "Mencari Nilai Maksimum dan Minimum dalam List\n",
            "Masukkan serangkaian angka yang dipisahkan dengan spasi: 7 5 4 6 3 8 2 9 1 13 11 18 17 14\n",
            "Daftar angka: [7.0, 5.0, 4.0, 6.0, 3.0, 8.0, 2.0, 9.0, 1.0, 13.0, 11.0, 18.0, 17.0, 14.0]\n",
            "Nilai maksimum: 18.0\n",
            "Nilai minimum: 1.0\n"
          ]
        }
      ]
    }
  ]
}